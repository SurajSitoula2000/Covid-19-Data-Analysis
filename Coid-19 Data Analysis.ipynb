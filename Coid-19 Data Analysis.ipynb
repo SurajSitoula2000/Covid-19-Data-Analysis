{
 "cells": [
  {
   "cell_type": "markdown",
   "id": "be2899de",
   "metadata": {},
   "source": [
    "## Importing Libraries"
   ]
  },
  {
   "cell_type": "code",
   "execution_count": null,
   "id": "7e9e7715",
   "metadata": {},
   "outputs": [],
   "source": [
    "import pandas as pd\n",
    "import numpy as np\n",
    "import matplotlib.pyplot as plt\n",
    "import seaborn as sns\n",
    "import os"
   ]
  },
  {
   "cell_type": "markdown",
   "id": "c6e98505",
   "metadata": {},
   "source": [
    "## Load the data"
   ]
  },
  {
   "cell_type": "code",
   "execution_count": null,
   "id": "56f6dd14",
   "metadata": {},
   "outputs": [],
   "source": [
    "files = os.listdir('C:/Users/SURAJ/Desktop/Udemy Project/COVID-19')\n",
    "files"
   ]
  },
  {
   "cell_type": "code",
   "execution_count": null,
   "id": "2051014d",
   "metadata": {},
   "outputs": [],
   "source": [
    "def read_data(path,filename):\n",
    "    return pd.read_csv(path+'/'+filename)"
   ]
  },
  {
   "cell_type": "code",
   "execution_count": null,
   "id": "80131aa8",
   "metadata": {},
   "outputs": [],
   "source": [
    "path = 'C:/Users/SURAJ/Desktop/Udemy Project/COVID-19'\n",
    "world_data = read_data(path, 'worldometer_data.csv')"
   ]
  },
  {
   "cell_type": "code",
   "execution_count": null,
   "id": "0b17d180",
   "metadata": {},
   "outputs": [],
   "source": [
    "world_data.head()"
   ]
  },
  {
   "cell_type": "code",
   "execution_count": null,
   "id": "aa83aa97",
   "metadata": {},
   "outputs": [],
   "source": [
    "country_wise = read_data(path,files[0])"
   ]
  },
  {
   "cell_type": "code",
   "execution_count": null,
   "id": "725ccd32",
   "metadata": {},
   "outputs": [],
   "source": [
    "province_data = read_data(path,files[1])"
   ]
  },
  {
   "cell_type": "code",
   "execution_count": null,
   "id": "c0c7da35",
   "metadata": {},
   "outputs": [],
   "source": [
    "day_wise = read_data(path,files[2])"
   ]
  },
  {
   "cell_type": "code",
   "execution_count": null,
   "id": "5bd05aac",
   "metadata": {},
   "outputs": [],
   "source": [
    "grouped_data = read_data(path,files[3])"
   ]
  },
  {
   "cell_type": "code",
   "execution_count": null,
   "id": "7a89f3a0",
   "metadata": {},
   "outputs": [],
   "source": [
    "usa_data = read_data(path,files[4])"
   ]
  },
  {
   "cell_type": "code",
   "execution_count": null,
   "id": "c8f15d70",
   "metadata": {},
   "outputs": [],
   "source": [
    "country_wise.shape"
   ]
  },
  {
   "cell_type": "code",
   "execution_count": null,
   "id": "0f90b210",
   "metadata": {},
   "outputs": [],
   "source": [
    "grouped_data.shape"
   ]
  },
  {
   "cell_type": "markdown",
   "id": "5932c177",
   "metadata": {},
   "source": [
    "## Analyze total cases, Death, Recovered and active cases "
   ]
  },
  {
   "cell_type": "code",
   "execution_count": null,
   "id": "e9ed7666",
   "metadata": {},
   "outputs": [],
   "source": [
    "world_data.head()"
   ]
  },
  {
   "cell_type": "code",
   "execution_count": null,
   "id": "f7014548",
   "metadata": {},
   "outputs": [],
   "source": [
    "world_data.columns"
   ]
  },
  {
   "cell_type": "code",
   "execution_count": null,
   "id": "a3a7620c",
   "metadata": {},
   "outputs": [],
   "source": [
    "import plotly.express as px"
   ]
  },
  {
   "cell_type": "code",
   "execution_count": null,
   "id": "eb55f6db",
   "metadata": {},
   "outputs": [],
   "source": [
    "columns = ['TotalCases','TotalDeaths','TotalRecovered','ActiveCases']\n",
    "for i in columns:\n",
    "    fig = px.treemap(world_data.iloc[0:20],values=i,path=['Country/Region'],title='Treemap representation of different countries w.r.t {}'.format(i))\n",
    "    fig.show()"
   ]
  },
  {
   "cell_type": "markdown",
   "id": "77293f2b",
   "metadata": {},
   "source": [
    "## Analyze trend of Confirmed, Deaths, Recovered and Active cases"
   ]
  },
  {
   "cell_type": "code",
   "execution_count": null,
   "id": "11ef42da",
   "metadata": {},
   "outputs": [],
   "source": [
    "day_wise.head()"
   ]
  },
  {
   "cell_type": "code",
   "execution_count": null,
   "id": "27d74eb9",
   "metadata": {},
   "outputs": [],
   "source": [
    "px.line(day_wise,x='Date',y=['Confirmed','Deaths','Recovered','Active'],title='covid cases w.r.t to date',template='plotly_dark')"
   ]
  },
  {
   "cell_type": "markdown",
   "id": "487c9ec5",
   "metadata": {},
   "source": [
    "## Visualise population to test done ratio"
   ]
  },
  {
   "cell_type": "code",
   "execution_count": null,
   "id": "85994cac",
   "metadata": {},
   "outputs": [],
   "source": [
    "world_data.head()"
   ]
  },
  {
   "cell_type": "code",
   "execution_count": null,
   "id": "5e7e07b0",
   "metadata": {},
   "outputs": [],
   "source": [
    "pop_test_ratio = world_data['Population']/world_data['TotalTests'].iloc[0:20]"
   ]
  },
  {
   "cell_type": "code",
   "execution_count": null,
   "id": "e256b41f",
   "metadata": {},
   "outputs": [],
   "source": [
    "fig = px.bar(world_data.iloc[0:20],x='Country/Region',y=pop_test_ratio.iloc[0:20],color='Country/Region',title='Pop to tests done ratio')\n",
    "fig.show()"
   ]
  },
  {
   "cell_type": "markdown",
   "id": "bd123030",
   "metadata": {},
   "source": [
    "## Top 20 countries badly affected by covid"
   ]
  },
  {
   "cell_type": "code",
   "execution_count": null,
   "id": "a036036e",
   "metadata": {},
   "outputs": [],
   "source": [
    "px.bar(world_data.iloc[0:20],x='Country/Region',y=['Serious,Critical','TotalDeaths','TotalRecovered','ActiveCases','TotalCases'],title='Top 20 countries affected')"
   ]
  },
  {
   "cell_type": "markdown",
   "id": "e7613932",
   "metadata": {},
   "source": [
    "## Worst top 20 countries having max. confirmed cases"
   ]
  },
  {
   "cell_type": "code",
   "execution_count": null,
   "id": "41d89f0c",
   "metadata": {},
   "outputs": [],
   "source": [
    "fig=px.bar(world_data.iloc[0:20],y='Country/Region',x='TotalCases',color='TotalCases',text='TotalCases')\n",
    "fig.update_layout(template='plotly_dark',title_text='Top 20 countries of total confirmed cases')\n",
    "fig.show()"
   ]
  },
  {
   "cell_type": "markdown",
   "id": "07354ff9",
   "metadata": {},
   "source": [
    "## Worst top 20 countries having max. total death cases"
   ]
  },
  {
   "cell_type": "code",
   "execution_count": null,
   "id": "c3fee838",
   "metadata": {},
   "outputs": [],
   "source": [
    "world_data.sort_values(by='TotalDeaths',ascending=False)"
   ]
  },
  {
   "cell_type": "code",
   "execution_count": null,
   "id": "085f869d",
   "metadata": {},
   "outputs": [],
   "source": [
    "fig=px.bar(world_data.sort_values(by='TotalDeaths',ascending=False).iloc[0:20],y='Country/Region',x='TotalDeaths',color='TotalDeaths',text='TotalDeaths')\n",
    "fig.update_layout(template='plotly_dark',title_text='Top 20 countries of total Deaths cases')\n",
    "fig.show()"
   ]
  },
  {
   "cell_type": "markdown",
   "id": "5d58760a",
   "metadata": {},
   "source": [
    "## Worst top 20 countries having max. total Active cases"
   ]
  },
  {
   "cell_type": "code",
   "execution_count": null,
   "id": "4840f6b3",
   "metadata": {},
   "outputs": [],
   "source": [
    "fig=px.bar(world_data.sort_values(by='ActiveCases',ascending=False).iloc[0:20],y='Country/Region',x='ActiveCases',color='ActiveCases',text='ActiveCases')\n",
    "fig.update_layout(template='plotly_dark',title_text='Top 20 countries of Total Active Cases')\n",
    "fig.show()"
   ]
  },
  {
   "cell_type": "markdown",
   "id": "e4429102",
   "metadata": {},
   "source": [
    "## Worst top 20 countries having max. total Recovered cases"
   ]
  },
  {
   "cell_type": "code",
   "execution_count": null,
   "id": "42d24da2",
   "metadata": {
    "scrolled": true
   },
   "outputs": [],
   "source": [
    "fig=px.bar(world_data.sort_values(by='TotalRecovered',ascending=False).iloc[0:20],y='Country/Region',x='TotalRecovered',color='TotalRecovered',text='TotalRecovered')\n",
    "fig.update_layout(template='plotly_dark',title_text='Top 20 countries of Total Recovered Cases')\n",
    "fig.show()"
   ]
  },
  {
   "cell_type": "markdown",
   "id": "79b0efa3",
   "metadata": {},
   "source": [
    "## Worst covid-19 affected countries"
   ]
  },
  {
   "cell_type": "code",
   "execution_count": null,
   "id": "481d9ad7",
   "metadata": {},
   "outputs": [],
   "source": [
    "labels=world_data[0:15]['Country/Region'].values\n",
    "cases=['TotalCases','TotalDeaths','TotalRecovered','ActiveCases']\n",
    "for i  in cases:\n",
    "    fig=px.pie(world_data[0:15],values=i,names=labels,hole=0.3,title=\"{} recorded w.r.t to WHO region of 15 most affected countries\".format(i))\n",
    "    fig.show()"
   ]
  },
  {
   "cell_type": "markdown",
   "id": "9dea929b",
   "metadata": {},
   "source": [
    "## Death to confirmed ratio"
   ]
  },
  {
   "cell_type": "code",
   "execution_count": null,
   "id": "ecf975d0",
   "metadata": {},
   "outputs": [],
   "source": [
    "deaths_to_confirmed=world_data['TotalDeaths']/world_data['TotalCases']\n",
    "deaths_to_confirmed"
   ]
  },
  {
   "cell_type": "code",
   "execution_count": null,
   "id": "7804f3d8",
   "metadata": {},
   "outputs": [],
   "source": [
    "px.bar(world_data,x='Country/Region',y=deaths_to_confirmed,title=\"Death to confirmed ratio to worst affected countries\")"
   ]
  },
  {
   "cell_type": "markdown",
   "id": "9b6cc718",
   "metadata": {},
   "source": [
    "## Death to recoverd ratio"
   ]
  },
  {
   "cell_type": "code",
   "execution_count": null,
   "id": "d154e937",
   "metadata": {},
   "outputs": [],
   "source": [
    "deaths_to_recovered=world_data['TotalDeaths']/world_data['TotalRecovered']"
   ]
  },
  {
   "cell_type": "code",
   "execution_count": null,
   "id": "47a6c096",
   "metadata": {},
   "outputs": [],
   "source": [
    "px.bar(world_data,x='Country/Region',y=deaths_to_recovered,title=\"Death to confirmed ratio to recovered countries\")"
   ]
  },
  {
   "cell_type": "markdown",
   "id": "1f792bf6",
   "metadata": {},
   "source": [
    "## Test to confirmed ratio"
   ]
  },
  {
   "cell_type": "code",
   "execution_count": null,
   "id": "ababc35d",
   "metadata": {},
   "outputs": [],
   "source": [
    "deaths_to_test=world_data['TotalDeaths']/world_data['TotalTests']"
   ]
  },
  {
   "cell_type": "code",
   "execution_count": null,
   "id": "61cbdb1a",
   "metadata": {},
   "outputs": [],
   "source": [
    "px.bar(world_data,x='Country/Region',y=deaths_to_test,title=\"Death to confirmed ratio to test worst affected countries\")"
   ]
  },
  {
   "cell_type": "markdown",
   "id": "984f9caf",
   "metadata": {},
   "source": [
    "## Serious to deaths ratio"
   ]
  },
  {
   "cell_type": "code",
   "execution_count": null,
   "id": "b5c9e14f",
   "metadata": {},
   "outputs": [],
   "source": [
    "world_data['Serious,Critical']/world_data['TotalDeaths']"
   ]
  },
  {
   "cell_type": "code",
   "execution_count": null,
   "id": "4dbd0e1f",
   "metadata": {},
   "outputs": [],
   "source": [
    "px.bar(world_data,x='Country/Region',y=world_data['Serious,Critical']/world_data['TotalDeaths'],title=\"Death to confirmed ratio to serious and critical affected countries\")"
   ]
  },
  {
   "cell_type": "markdown",
   "id": "114a369f",
   "metadata": {},
   "source": [
    "## Visualize confirmed, Active, Recovered, Death cases of a particular country"
   ]
  },
  {
   "cell_type": "code",
   "execution_count": null,
   "id": "6d3b240b",
   "metadata": {},
   "outputs": [],
   "source": [
    "from plotly.subplots import make_subplots\n",
    "import plotly.graph_objects as go"
   ]
  },
  {
   "cell_type": "code",
   "execution_count": null,
   "id": "c7bc73d1",
   "metadata": {},
   "outputs": [],
   "source": [
    "def country_visualization(df,country):\n",
    "    data=df[df['Country/Region']==country]\n",
    "    \n",
    "    data2=data.loc[:,['Date','Confirmed','Deaths','Recovered','Active']]\n",
    "    \n",
    "    fig=make_subplots(rows=1,cols=4,subplot_titles=('confirmed','Active','Recovered','Deaths'))\n",
    "    \n",
    "    fig.add_trace(\n",
    "    go.Scatter(name='Confirmed',x=data2['Date'],y=data2['Confirmed']),row=1,col=1\n",
    "    )\n",
    "    \n",
    "    fig.add_trace(\n",
    "    go.Scatter(name='Deaths',x=data2['Date'],y=data2['Deaths']),row=1,col=2\n",
    "    )\n",
    "    \n",
    "    fig.add_trace(\n",
    "    go.Scatter(name='Recovered',x=data2['Date'],y=data2['Recovered']),row=1,col=3\n",
    "    )\n",
    "    \n",
    "    fig.add_trace(\n",
    "    go.Scatter(name='Active',x=data2['Date'],y=data2['Active']),row=1,col=4\n",
    "    )\n",
    "    \n",
    "    fig.update_layout(height=600,width=1000,title_text='Date vs Recorded cases of {}'.format(country),template='plotly_dark')\n",
    "    fig.show()"
   ]
  },
  {
   "cell_type": "code",
   "execution_count": null,
   "id": "3146fe6d",
   "metadata": {},
   "outputs": [],
   "source": [
    "country_visualization(grouped_data,'India')"
   ]
  },
  {
   "cell_type": "code",
   "execution_count": null,
   "id": "fec8801f",
   "metadata": {},
   "outputs": [],
   "source": []
  }
 ],
 "metadata": {
  "kernelspec": {
   "display_name": "Python 3 (ipykernel)",
   "language": "python",
   "name": "python3"
  },
  "language_info": {
   "codemirror_mode": {
    "name": "ipython",
    "version": 3
   },
   "file_extension": ".py",
   "mimetype": "text/x-python",
   "name": "python",
   "nbconvert_exporter": "python",
   "pygments_lexer": "ipython3",
   "version": "3.11.7"
  }
 },
 "nbformat": 4,
 "nbformat_minor": 5
}
